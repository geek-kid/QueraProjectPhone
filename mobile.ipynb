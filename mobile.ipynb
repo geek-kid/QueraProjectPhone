{
 "cells": [
  {
   "metadata": {
    "ExecuteTime": {
     "end_time": "2025-01-21T16:52:24.873293Z",
     "start_time": "2025-01-21T16:52:23.288469Z"
    }
   },
   "cell_type": "code",
   "source": [
    "from numpy.lib.format import header_data_from_array_1_0\n",
    "from sklearn.cluster import KMeans\n",
    "import os\n",
    "import matplotlib.pyplot as plt\n",
    "import json\n",
    "import data_cleaner\n",
    "import pandas as pd\n",
    "from sklearn.model_selection import train_test_split\n",
    "from sklearn.preprocessing import StandardScaler, LabelEncoder\n",
    "from sklearn.svm import SVR\n",
    "from sklearn.metrics import mean_absolute_error, mean_squared_error"
   ],
   "outputs": [],
   "execution_count": 1
  },
  {
   "metadata": {
    "ExecuteTime": {
     "end_time": "2025-01-21T16:52:25.461753Z",
     "start_time": "2025-01-21T16:52:25.455463Z"
    }
   },
   "cell_type": "code",
   "source": [
    "# Specify the directory path\n",
    "directory_path = 'data/'\n",
    "\n",
    "# Get a list of files in the directory\n",
    "file_names = [f for f in os.listdir(directory_path) if os.path.isfile(os.path.join(directory_path, f))]\n",
    "file_names"
   ],
   "outputs": [
    {
     "data": {
      "text/plain": [
       "['Alcatel_data.json',\n",
       " 'Apple_data.json',\n",
       " 'Asus_data.json',\n",
       " 'Blu_data.json',\n",
       " 'HTC_data.json',\n",
       " 'Huawei_data.json',\n",
       " 'Infinix_data.json',\n",
       " 'Lenovo_data.json',\n",
       " 'LG_data.json',\n",
       " 'Nokia_data.json',\n",
       " 'Samsung_data.json',\n",
       " 'Sony_data.json',\n",
       " 'Xiaomi_data.json',\n",
       " 'ZTE_data.json']"
      ]
     },
     "execution_count": 2,
     "metadata": {},
     "output_type": "execute_result"
    }
   ],
   "execution_count": 2
  },
  {
   "metadata": {
    "ExecuteTime": {
     "end_time": "2025-01-21T16:53:14.880692Z",
     "start_time": "2025-01-21T16:53:14.587161Z"
    }
   },
   "cell_type": "code",
   "source": [
    "dataframes = []\n",
    "for f in file_names:\n",
    "    file_path = directory_path + f\n",
    "    with open(file_path, 'r') as file:\n",
    "        data = json.load(file)\n",
    "    parsed_data = []\n",
    "    for brand, products in data.items():\n",
    "        for product_name, spec in products.items():\n",
    "            if \"watch\" in product_name.lower():\n",
    "                continue\n",
    "            lunch_data = data_cleaner.parse_date(spec.get('Launch', list(dict())))\n",
    "            if not lunch_data[1] or lunch_data[0] > 6:\n",
    "                continue\n",
    "            if lunch_data[1] == 2:\n",
    "                continue\n",
    "            os = data_cleaner.os_parser(spec.get(\"Platform\", list(dict())))\n",
    "            if os not in [1, 2]:\n",
    "                continue\n",
    "            display_information = data_cleaner.parse_display_information(spec.get(\"Display\", list(dict())))\n",
    "            memory_data = data_cleaner.parse_memory_data(spec.get(\"Memory\", list(dict())))\n",
    "            if 0 in memory_data:\n",
    "                continue\n",
    "            price = data_cleaner.parse_price(spec.get(\"Misc\", list(dict())))\n",
    "            if not price:\n",
    "                continue\n",
    "            battery = data_cleaner.get_battery(spec.get(\"Battery\", list(dict())))\n",
    "            if not battery:\n",
    "                continue\n",
    "            product_features = {\n",
    "                \"brand\": \"\".join(char for char in brand if not char.isdigit()),\n",
    "                \"product_name\": product_name,\n",
    "                \"5g\": data_cleaner.parse_5g(spec.get(\"Network\", list(dict()))),\n",
    "                \"years_since_release\": lunch_data[0],\n",
    "                \"resolution\": display_information[0],\n",
    "                \"size\": display_information[1],\n",
    "                \"os\": data_cleaner.os_parser(spec.get(\"Platform\", list(dict()))),\n",
    "                \"battery\": battery,\n",
    "                \"ram\": memory_data[0],\n",
    "                \"storage\": memory_data[1],\n",
    "                \"price\": price\n",
    "            }\n",
    "            parsed_data.append(product_features)\n",
    "    df = pd.DataFrame(parsed_data)\n",
    "    dataframes.append(df)"
   ],
   "outputs": [],
   "execution_count": 9
  },
  {
   "metadata": {
    "ExecuteTime": {
     "end_time": "2025-01-21T16:53:17.095102Z",
     "start_time": "2025-01-21T16:53:17.085295Z"
    }
   },
   "cell_type": "code",
   "source": [
    "detailed_df = pd.concat(dataframes,ignore_index=True)\n",
    "detailed_df.info()\n"
   ],
   "outputs": [
    {
     "name": "stdout",
     "output_type": "stream",
     "text": [
      "<class 'pandas.core.frame.DataFrame'>\n",
      "RangeIndex: 986 entries, 0 to 985\n",
      "Data columns (total 11 columns):\n",
      " #   Column               Non-Null Count  Dtype  \n",
      "---  ------               --------------  -----  \n",
      " 0   brand                986 non-null    object \n",
      " 1   product_name         986 non-null    object \n",
      " 2   5g                   986 non-null    int64  \n",
      " 3   years_since_release  986 non-null    int64  \n",
      " 4   resolution           986 non-null    int64  \n",
      " 5   size                 986 non-null    float64\n",
      " 6   os                   986 non-null    int64  \n",
      " 7   battery              986 non-null    int64  \n",
      " 8   ram                  986 non-null    float64\n",
      " 9   storage              986 non-null    float64\n",
      " 10  price                986 non-null    float64\n",
      "dtypes: float64(4), int64(5), object(2)\n",
      "memory usage: 84.9+ KB\n"
     ]
    }
   ],
   "execution_count": 10
  },
  {
   "metadata": {
    "ExecuteTime": {
     "end_time": "2025-01-21T16:53:19.370608Z",
     "start_time": "2025-01-21T16:53:19.362166Z"
    }
   },
   "cell_type": "code",
   "source": "detailed_df.info()",
   "outputs": [
    {
     "name": "stdout",
     "output_type": "stream",
     "text": [
      "<class 'pandas.core.frame.DataFrame'>\n",
      "RangeIndex: 986 entries, 0 to 985\n",
      "Data columns (total 11 columns):\n",
      " #   Column               Non-Null Count  Dtype  \n",
      "---  ------               --------------  -----  \n",
      " 0   brand                986 non-null    object \n",
      " 1   product_name         986 non-null    object \n",
      " 2   5g                   986 non-null    int64  \n",
      " 3   years_since_release  986 non-null    int64  \n",
      " 4   resolution           986 non-null    int64  \n",
      " 5   size                 986 non-null    float64\n",
      " 6   os                   986 non-null    int64  \n",
      " 7   battery              986 non-null    int64  \n",
      " 8   ram                  986 non-null    float64\n",
      " 9   storage              986 non-null    float64\n",
      " 10  price                986 non-null    float64\n",
      "dtypes: float64(4), int64(5), object(2)\n",
      "memory usage: 84.9+ KB\n"
     ]
    }
   ],
   "execution_count": 11
  },
  {
   "metadata": {
    "ExecuteTime": {
     "end_time": "2025-01-21T16:53:20.904047Z",
     "start_time": "2025-01-21T16:53:20.897695Z"
    }
   },
   "cell_type": "code",
   "source": "detailed_df.isnull().sum()",
   "outputs": [
    {
     "data": {
      "text/plain": [
       "brand                  0\n",
       "product_name           0\n",
       "5g                     0\n",
       "years_since_release    0\n",
       "resolution             0\n",
       "size                   0\n",
       "os                     0\n",
       "battery                0\n",
       "ram                    0\n",
       "storage                0\n",
       "price                  0\n",
       "dtype: int64"
      ]
     },
     "execution_count": 12,
     "metadata": {},
     "output_type": "execute_result"
    }
   ],
   "execution_count": 12
  },
  {
   "metadata": {
    "ExecuteTime": {
     "end_time": "2025-01-21T16:53:22.536829Z",
     "start_time": "2025-01-21T16:53:22.527166Z"
    }
   },
   "cell_type": "code",
   "source": "detailed_df.head()",
   "outputs": [
    {
     "data": {
      "text/plain": [
       "     brand   product_name  5g  years_since_release  resolution  size  os  \\\n",
       "0  alcatel      1B (2022)   0                    3     1036800  5.50   1   \n",
       "1  alcatel  1L Pro (2021)   0                    4     1123200  6.10   1   \n",
       "2  alcatel       1 (2021)   0                    4      460800  5.00   1   \n",
       "3  alcatel      3L (2021)   0                    4     1152000  6.52   1   \n",
       "4  alcatel      1S (2021)   0                    4     1152000  6.52   1   \n",
       "\n",
       "   battery  ram  storage  price  \n",
       "0     3000  2.0     32.0  103.0  \n",
       "1     3000  2.0     32.0  113.3  \n",
       "2     2000  1.0      8.0   61.8  \n",
       "3     4000  4.0     64.0  339.9  \n",
       "4     4000  3.0     32.0  133.9  "
      ],
      "text/html": [
       "<div>\n",
       "<style scoped>\n",
       "    .dataframe tbody tr th:only-of-type {\n",
       "        vertical-align: middle;\n",
       "    }\n",
       "\n",
       "    .dataframe tbody tr th {\n",
       "        vertical-align: top;\n",
       "    }\n",
       "\n",
       "    .dataframe thead th {\n",
       "        text-align: right;\n",
       "    }\n",
       "</style>\n",
       "<table border=\"1\" class=\"dataframe\">\n",
       "  <thead>\n",
       "    <tr style=\"text-align: right;\">\n",
       "      <th></th>\n",
       "      <th>brand</th>\n",
       "      <th>product_name</th>\n",
       "      <th>5g</th>\n",
       "      <th>years_since_release</th>\n",
       "      <th>resolution</th>\n",
       "      <th>size</th>\n",
       "      <th>os</th>\n",
       "      <th>battery</th>\n",
       "      <th>ram</th>\n",
       "      <th>storage</th>\n",
       "      <th>price</th>\n",
       "    </tr>\n",
       "  </thead>\n",
       "  <tbody>\n",
       "    <tr>\n",
       "      <th>0</th>\n",
       "      <td>alcatel</td>\n",
       "      <td>1B (2022)</td>\n",
       "      <td>0</td>\n",
       "      <td>3</td>\n",
       "      <td>1036800</td>\n",
       "      <td>5.50</td>\n",
       "      <td>1</td>\n",
       "      <td>3000</td>\n",
       "      <td>2.0</td>\n",
       "      <td>32.0</td>\n",
       "      <td>103.0</td>\n",
       "    </tr>\n",
       "    <tr>\n",
       "      <th>1</th>\n",
       "      <td>alcatel</td>\n",
       "      <td>1L Pro (2021)</td>\n",
       "      <td>0</td>\n",
       "      <td>4</td>\n",
       "      <td>1123200</td>\n",
       "      <td>6.10</td>\n",
       "      <td>1</td>\n",
       "      <td>3000</td>\n",
       "      <td>2.0</td>\n",
       "      <td>32.0</td>\n",
       "      <td>113.3</td>\n",
       "    </tr>\n",
       "    <tr>\n",
       "      <th>2</th>\n",
       "      <td>alcatel</td>\n",
       "      <td>1 (2021)</td>\n",
       "      <td>0</td>\n",
       "      <td>4</td>\n",
       "      <td>460800</td>\n",
       "      <td>5.00</td>\n",
       "      <td>1</td>\n",
       "      <td>2000</td>\n",
       "      <td>1.0</td>\n",
       "      <td>8.0</td>\n",
       "      <td>61.8</td>\n",
       "    </tr>\n",
       "    <tr>\n",
       "      <th>3</th>\n",
       "      <td>alcatel</td>\n",
       "      <td>3L (2021)</td>\n",
       "      <td>0</td>\n",
       "      <td>4</td>\n",
       "      <td>1152000</td>\n",
       "      <td>6.52</td>\n",
       "      <td>1</td>\n",
       "      <td>4000</td>\n",
       "      <td>4.0</td>\n",
       "      <td>64.0</td>\n",
       "      <td>339.9</td>\n",
       "    </tr>\n",
       "    <tr>\n",
       "      <th>4</th>\n",
       "      <td>alcatel</td>\n",
       "      <td>1S (2021)</td>\n",
       "      <td>0</td>\n",
       "      <td>4</td>\n",
       "      <td>1152000</td>\n",
       "      <td>6.52</td>\n",
       "      <td>1</td>\n",
       "      <td>4000</td>\n",
       "      <td>3.0</td>\n",
       "      <td>32.0</td>\n",
       "      <td>133.9</td>\n",
       "    </tr>\n",
       "  </tbody>\n",
       "</table>\n",
       "</div>"
      ]
     },
     "execution_count": 13,
     "metadata": {},
     "output_type": "execute_result"
    }
   ],
   "execution_count": 13
  },
  {
   "metadata": {
    "ExecuteTime": {
     "end_time": "2025-01-21T16:53:37.931875Z",
     "start_time": "2025-01-21T16:53:37.683426Z"
    }
   },
   "cell_type": "code",
   "source": [
    "\n",
    "x = detailed_df[\"battery\"].tolist()\n",
    "y = detailed_df[\"price\"].tolist()\n",
    "data = list(zip(x, y))\n",
    "kmeans = KMeans(n_clusters=5)\n",
    "kmeans.fit(data)\n",
    "plt.scatter(x, y, c=kmeans.labels_)\n",
    "plt.show()"
   ],
   "outputs": [
    {
     "name": "stderr",
     "output_type": "stream",
     "text": [
      "C:\\Users\\aryat\\miniconda3\\Lib\\site-packages\\joblib\\externals\\loky\\backend\\context.py:136: UserWarning: Could not find the number of physical cores for the following reason:\n",
      "[WinError 2] The system cannot find the file specified\n",
      "Returning the number of logical cores instead. You can silence this warning by setting LOKY_MAX_CPU_COUNT to the number of cores you want to use.\n",
      "  warnings.warn(\n",
      "  File \"C:\\Users\\aryat\\miniconda3\\Lib\\site-packages\\joblib\\externals\\loky\\backend\\context.py\", line 257, in _count_physical_cores\n",
      "    cpu_info = subprocess.run(\n",
      "               ^^^^^^^^^^^^^^^\n",
      "  File \"C:\\Users\\aryat\\miniconda3\\Lib\\subprocess.py\", line 548, in run\n",
      "    with Popen(*popenargs, **kwargs) as process:\n",
      "         ^^^^^^^^^^^^^^^^^^^^^^^^^^^\n",
      "  File \"C:\\Users\\aryat\\miniconda3\\Lib\\subprocess.py\", line 1026, in __init__\n",
      "    self._execute_child(args, executable, preexec_fn, close_fds,\n",
      "  File \"C:\\Users\\aryat\\miniconda3\\Lib\\subprocess.py\", line 1538, in _execute_child\n",
      "    hp, ht, pid, tid = _winapi.CreateProcess(executable, args,\n",
      "                       ^^^^^^^^^^^^^^^^^^^^^^^^^^^^^^^^^^^^^^^\n"
     ]
    },
    {
     "data": {
      "text/plain": [
       "<Figure size 640x480 with 1 Axes>"
      ],
      "image/png": "[encoded data removed]"
     },
     "metadata": {},
     "output_type": "display_data"
    }
   ],
   "execution_count": 15
  },
  {
   "metadata": {
    "ExecuteTime": {
     "end_time": "2025-01-19T19:49:48.309802Z",
     "start_time": "2025-01-19T19:49:48.267490Z"
    }
   },
   "cell_type": "code",
   "source": [
    "label_encoder_brand = LabelEncoder()\n",
    "label_encoder_product = LabelEncoder()\n",
    "\n",
    "detailed_df['brand_encoded'] = label_encoder_brand.fit_transform(detailed_df['brand'])\n",
    "detailed_df['product_name_encoded'] = label_encoder_product.fit_transform(detailed_df['product_name'])\n",
    "\n",
    "detailed_df = detailed_df.drop(columns=['brand', 'product_name'])\n",
    "\n",
    "X = detailed_df.drop(columns=['price'])\n",
    "y = detailed_df['price']\n",
    "\n",
    "scaler = StandardScaler()\n",
    "X_scaled = scaler.fit_transform(X)\n",
    "\n",
    "X_train, X_test, y_train, y_test = train_test_split(X_scaled, y, test_size=0.2, random_state=42)\n",
    "\n",
    "svr_model = SVR(kernel='rbf', C=100, epsilon=0.1)\n",
    "svr_model.fit(X_train, y_train)\n",
    "\n",
    "y_pred = svr_model.predict(X_test)\n",
    "mae = mean_absolute_error(y_test, y_pred)\n",
    "mse = mean_squared_error(y_test, y_pred)\n",
    "\n",
    "print(f\"Mean Absolute Error: {mae}\")\n",
    "print(f\"Mean Squared Error: {mse}\")"
   ],
   "outputs": [
    {
     "name": "stdout",
     "output_type": "stream",
     "text": [
      "Mean Absolute Error: 113.926786864632\n",
      "Mean Squared Error: 38848.628725129514\n"
     ]
    }
   ],
   "execution_count": 20
  }
 ],
 "metadata": {
  "kernelspec": {
   "display_name": "Python 3",
   "language": "python",
   "name": "python3"
  },
  "language_info": {
   "codemirror_mode": {
    "name": "ipython",
    "version": 2
   },
   "file_extension": ".py",
   "mimetype": "text/x-python",
   "name": "python",
   "nbconvert_exporter": "python",
   "pygments_lexer": "ipython2",
   "version": "2.7.6"
  }
 },
 "nbformat": 4,
 "nbformat_minor": 0
}
