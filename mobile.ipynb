{
 "cells": [
  {
   "cell_type": "code",
   "source": [
    "import json\n",
    "import data_cleaner\n",
    "import pandas as pd"
   ],
   "metadata": {
    "collapsed": false,
    "ExecuteTime": {
     "end_time": "2025-01-19T18:31:39.404027Z",
     "start_time": "2025-01-19T18:31:39.400889Z"
    }
   },
   "outputs": [],
   "execution_count": 7
  },
  {
   "cell_type": "code",
   "source": [
    "import os\n",
    "\n",
    "# Specify the directory path\n",
    "directory_path = 'data/'\n",
    "\n",
    "# Get a list of files in the directory\n",
    "file_names = [f for f in os.listdir(directory_path) if os.path.isfile(os.path.join(directory_path, f))]\n",
    "file_names"
   ],
   "metadata": {
    "collapsed": false,
    "ExecuteTime": {
     "end_time": "2025-01-19T18:31:40.653246Z",
     "start_time": "2025-01-19T18:31:40.646920Z"
    }
   },
   "outputs": [
    {
     "data": {
      "text/plain": [
       "['Alcatel_data.json',\n",
       " 'Apple_data.json',\n",
       " 'Asus_data.json',\n",
       " 'Blu_data.json',\n",
       " 'HTC_data.json',\n",
       " 'Huawei_data.json',\n",
       " 'Infinix_data.json',\n",
       " 'Lenovo_data.json',\n",
       " 'LG_data.json',\n",
       " 'Nokia_data.json',\n",
       " 'Samsung_data.json',\n",
       " 'Sony_data.json',\n",
       " 'Xiaomi_data.json',\n",
       " 'ZTE_data.json']"
      ]
     },
     "execution_count": 8,
     "metadata": {},
     "output_type": "execute_result"
    }
   ],
   "execution_count": 8
  },
  {
   "cell_type": "code",
   "source": [
    "dataframes = []\n",
    "for f in file_names:\n",
    "    file_path = directory_path + f\n",
    "    with open(file_path, 'r') as file:\n",
    "        data = json.load(file)\n",
    "    parsed_data = []\n",
    "    for brand, products in data.items():\n",
    "        for product_name, spec in products.items():\n",
    "            if \"watch\" in product_name.lower():\n",
    "                continue\n",
    "            lunch_data = data_cleaner.parse_date(spec.get('Launch', list(dict())))\n",
    "            if not lunch_data[1] or lunch_data[0] > 6:\n",
    "                continue\n",
    "            if lunch_data[1] == 2:\n",
    "                continue\n",
    "            os = data_cleaner.os_parser(spec.get(\"Platform\", list(dict())))\n",
    "            if os not in [1, 2]:\n",
    "                continue\n",
    "            display_information = data_cleaner.parse_display_information(spec.get(\"Display\", list(dict())))\n",
    "            memory_data = data_cleaner.parse_memory_data(spec.get(\"Memory\", list(dict())))\n",
    "            if 0 in memory_data:\n",
    "                continue\n",
    "            product_features = {\n",
    "                \"brand\": \"\".join(char for char in brand if not char.isdigit()),\n",
    "                \"product_name\": product_name,\n",
    "                \"5g\": data_cleaner.parse_5g(spec.get(\"Network\", list(dict()))),\n",
    "                \"years_since_release\": lunch_data[0],\n",
    "                \"resolution\": display_information[0],\n",
    "                \"size\": display_information[1],\n",
    "                \"os\": data_cleaner.os_parser(spec.get(\"Platform\", list(dict()))),\n",
    "                \"battery\": data_cleaner.get_battery(spec.get(\"Battery\", list(dict()))),\n",
    "                \"ram\": memory_data[0],\n",
    "                \"storage\": memory_data[1],\n",
    "                \"price\": data_cleaner.parse_price(spec.get(\"Misc\", list(dict()))),\n",
    "            }\n",
    "            parsed_data.append(product_features)\n",
    "    df = pd.DataFrame(parsed_data)\n",
    "    dataframes.append(df)\n"
   ],
   "metadata": {
    "collapsed": false,
    "ExecuteTime": {
     "end_time": "2025-01-19T18:31:42.707102Z",
     "start_time": "2025-01-19T18:31:42.512280Z"
    }
   },
   "outputs": [],
   "execution_count": 9
  },
  {
   "cell_type": "code",
   "source": [
    "detailed_df = pd.concat(dataframes,ignore_index=True)\n",
    "detailed_df.info()\n"
   ],
   "metadata": {
    "collapsed": false,
    "ExecuteTime": {
     "end_time": "2025-01-19T18:31:46.261264Z",
     "start_time": "2025-01-19T18:31:46.215542Z"
    }
   },
   "outputs": [
    {
     "name": "stdout",
     "output_type": "stream",
     "text": [
      "<class 'pandas.core.frame.DataFrame'>\n",
      "RangeIndex: 1173 entries, 0 to 1172\n",
      "Data columns (total 11 columns):\n",
      " #   Column               Non-Null Count  Dtype  \n",
      "---  ------               --------------  -----  \n",
      " 0   brand                1173 non-null   object \n",
      " 1   product_name         1173 non-null   object \n",
      " 2   5g                   1173 non-null   int64  \n",
      " 3   years_since_release  1173 non-null   int64  \n",
      " 4   resolution           1173 non-null   int64  \n",
      " 5   size                 1173 non-null   float64\n",
      " 6   os                   1173 non-null   int64  \n",
      " 7   battery              1173 non-null   int64  \n",
      " 8   ram                  1173 non-null   float64\n",
      " 9   storage              1173 non-null   float64\n",
      " 10  price                1025 non-null   float64\n",
      "dtypes: float64(4), int64(5), object(2)\n",
      "memory usage: 100.9+ KB\n"
     ]
    }
   ],
   "execution_count": 10
  },
  {
   "cell_type": "code",
   "source": "detailed_df.info()",
   "metadata": {
    "collapsed": false,
    "ExecuteTime": {
     "end_time": "2025-01-19T18:31:49.847406Z",
     "start_time": "2025-01-19T18:31:49.839762Z"
    }
   },
   "outputs": [
    {
     "name": "stdout",
     "output_type": "stream",
     "text": [
      "<class 'pandas.core.frame.DataFrame'>\n",
      "RangeIndex: 1173 entries, 0 to 1172\n",
      "Data columns (total 11 columns):\n",
      " #   Column               Non-Null Count  Dtype  \n",
      "---  ------               --------------  -----  \n",
      " 0   brand                1173 non-null   object \n",
      " 1   product_name         1173 non-null   object \n",
      " 2   5g                   1173 non-null   int64  \n",
      " 3   years_since_release  1173 non-null   int64  \n",
      " 4   resolution           1173 non-null   int64  \n",
      " 5   size                 1173 non-null   float64\n",
      " 6   os                   1173 non-null   int64  \n",
      " 7   battery              1173 non-null   int64  \n",
      " 8   ram                  1173 non-null   float64\n",
      " 9   storage              1173 non-null   float64\n",
      " 10  price                1025 non-null   float64\n",
      "dtypes: float64(4), int64(5), object(2)\n",
      "memory usage: 100.9+ KB\n"
     ]
    }
   ],
   "execution_count": 11
  },
  {
   "cell_type": "code",
   "source": [
    "detailed_df.isnull().sum()"
   ],
   "metadata": {
    "collapsed": false,
    "ExecuteTime": {
     "end_time": "2025-01-19T18:31:54.888828Z",
     "start_time": "2025-01-19T18:31:54.882321Z"
    }
   },
   "outputs": [
    {
     "data": {
      "text/plain": [
       "brand                    0\n",
       "product_name             0\n",
       "5g                       0\n",
       "years_since_release      0\n",
       "resolution               0\n",
       "size                     0\n",
       "os                       0\n",
       "battery                  0\n",
       "ram                      0\n",
       "storage                  0\n",
       "price                  148\n",
       "dtype: int64"
      ]
     },
     "execution_count": 12,
     "metadata": {},
     "output_type": "execute_result"
    }
   ],
   "execution_count": 12
  },
  {
   "cell_type": "code",
   "source": [
    "detailed_df"
   ],
   "metadata": {
    "collapsed": false,
    "ExecuteTime": {
     "end_time": "2025-01-19T18:31:57.456299Z",
     "start_time": "2025-01-19T18:31:57.444203Z"
    }
   },
   "outputs": [
    {
     "data": {
      "text/plain": [
       "        brand    product_name  5g  years_since_release  resolution  size  os  \\\n",
       "0     alcatel       1B (2022)   0                    3     1036800  5.50   1   \n",
       "1     alcatel   1L Pro (2021)   0                    4     1123200  6.10   1   \n",
       "2     alcatel        1 (2021)   0                    4      460800  5.00   1   \n",
       "3     alcatel       3L (2021)   0                    4     1152000  6.52   1   \n",
       "4     alcatel       1S (2021)   0                    4     1152000  6.52   1   \n",
       "...       ...             ...  ..                  ...         ...   ...  ..   \n",
       "1168      ZTE  Axon 10 Pro 5G   1                    6     2527200  6.47   1   \n",
       "1169      ZTE     Axon 10 Pro   0                    6     2527200  6.47   1   \n",
       "1170      ZTE       Blade V10   0                    6     2462400  6.30   1   \n",
       "1171      ZTE  Blade V10 Vita   0                    6     1094400  6.26   1   \n",
       "1172      ZTE        Blade A7   0                    6     1123200  6.09   1   \n",
       "\n",
       "      battery  ram  storage  price  \n",
       "0        3000  2.0     32.0  103.0  \n",
       "1        3000  2.0     32.0  113.3  \n",
       "2        2000  1.0      8.0   61.8  \n",
       "3        4000  4.0     64.0  339.9  \n",
       "4        4000  3.0     32.0  133.9  \n",
       "...       ...  ...      ...    ...  \n",
       "1168     4000  6.0    128.0  927.0  \n",
       "1169     4000  6.0    128.0  484.1  \n",
       "1170     3200  3.0     32.0    NaN  \n",
       "1171     3200  2.0     32.0    NaN  \n",
       "1172     3200  2.0     32.0   82.4  \n",
       "\n",
       "[1173 rows x 11 columns]"
      ],
      "text/html": [
       "<div>\n",
       "<style scoped>\n",
       "    .dataframe tbody tr th:only-of-type {\n",
       "        vertical-align: middle;\n",
       "    }\n",
       "\n",
       "    .dataframe tbody tr th {\n",
       "        vertical-align: top;\n",
       "    }\n",
       "\n",
       "    .dataframe thead th {\n",
       "        text-align: right;\n",
       "    }\n",
       "</style>\n",
       "<table border=\"1\" class=\"dataframe\">\n",
       "  <thead>\n",
       "    <tr style=\"text-align: right;\">\n",
       "      <th></th>\n",
       "      <th>brand</th>\n",
       "      <th>product_name</th>\n",
       "      <th>5g</th>\n",
       "      <th>years_since_release</th>\n",
       "      <th>resolution</th>\n",
       "      <th>size</th>\n",
       "      <th>os</th>\n",
       "      <th>battery</th>\n",
       "      <th>ram</th>\n",
       "      <th>storage</th>\n",
       "      <th>price</th>\n",
       "    </tr>\n",
       "  </thead>\n",
       "  <tbody>\n",
       "    <tr>\n",
       "      <th>0</th>\n",
       "      <td>alcatel</td>\n",
       "      <td>1B (2022)</td>\n",
       "      <td>0</td>\n",
       "      <td>3</td>\n",
       "      <td>1036800</td>\n",
       "      <td>5.50</td>\n",
       "      <td>1</td>\n",
       "      <td>3000</td>\n",
       "      <td>2.0</td>\n",
       "      <td>32.0</td>\n",
       "      <td>103.0</td>\n",
       "    </tr>\n",
       "    <tr>\n",
       "      <th>1</th>\n",
       "      <td>alcatel</td>\n",
       "      <td>1L Pro (2021)</td>\n",
       "      <td>0</td>\n",
       "      <td>4</td>\n",
       "      <td>1123200</td>\n",
       "      <td>6.10</td>\n",
       "      <td>1</td>\n",
       "      <td>3000</td>\n",
       "      <td>2.0</td>\n",
       "      <td>32.0</td>\n",
       "      <td>113.3</td>\n",
       "    </tr>\n",
       "    <tr>\n",
       "      <th>2</th>\n",
       "      <td>alcatel</td>\n",
       "      <td>1 (2021)</td>\n",
       "      <td>0</td>\n",
       "      <td>4</td>\n",
       "      <td>460800</td>\n",
       "      <td>5.00</td>\n",
       "      <td>1</td>\n",
       "      <td>2000</td>\n",
       "      <td>1.0</td>\n",
       "      <td>8.0</td>\n",
       "      <td>61.8</td>\n",
       "    </tr>\n",
       "    <tr>\n",
       "      <th>3</th>\n",
       "      <td>alcatel</td>\n",
       "      <td>3L (2021)</td>\n",
       "      <td>0</td>\n",
       "      <td>4</td>\n",
       "      <td>1152000</td>\n",
       "      <td>6.52</td>\n",
       "      <td>1</td>\n",
       "      <td>4000</td>\n",
       "      <td>4.0</td>\n",
       "      <td>64.0</td>\n",
       "      <td>339.9</td>\n",
       "    </tr>\n",
       "    <tr>\n",
       "      <th>4</th>\n",
       "      <td>alcatel</td>\n",
       "      <td>1S (2021)</td>\n",
       "      <td>0</td>\n",
       "      <td>4</td>\n",
       "      <td>1152000</td>\n",
       "      <td>6.52</td>\n",
       "      <td>1</td>\n",
       "      <td>4000</td>\n",
       "      <td>3.0</td>\n",
       "      <td>32.0</td>\n",
       "      <td>133.9</td>\n",
       "    </tr>\n",
       "    <tr>\n",
       "      <th>...</th>\n",
       "      <td>...</td>\n",
       "      <td>...</td>\n",
       "      <td>...</td>\n",
       "      <td>...</td>\n",
       "      <td>...</td>\n",
       "      <td>...</td>\n",
       "      <td>...</td>\n",
       "      <td>...</td>\n",
       "      <td>...</td>\n",
       "      <td>...</td>\n",
       "      <td>...</td>\n",
       "    </tr>\n",
       "    <tr>\n",
       "      <th>1168</th>\n",
       "      <td>ZTE</td>\n",
       "      <td>Axon 10 Pro 5G</td>\n",
       "      <td>1</td>\n",
       "      <td>6</td>\n",
       "      <td>2527200</td>\n",
       "      <td>6.47</td>\n",
       "      <td>1</td>\n",
       "      <td>4000</td>\n",
       "      <td>6.0</td>\n",
       "      <td>128.0</td>\n",
       "      <td>927.0</td>\n",
       "    </tr>\n",
       "    <tr>\n",
       "      <th>1169</th>\n",
       "      <td>ZTE</td>\n",
       "      <td>Axon 10 Pro</td>\n",
       "      <td>0</td>\n",
       "      <td>6</td>\n",
       "      <td>2527200</td>\n",
       "      <td>6.47</td>\n",
       "      <td>1</td>\n",
       "      <td>4000</td>\n",
       "      <td>6.0</td>\n",
       "      <td>128.0</td>\n",
       "      <td>484.1</td>\n",
       "    </tr>\n",
       "    <tr>\n",
       "      <th>1170</th>\n",
       "      <td>ZTE</td>\n",
       "      <td>Blade V10</td>\n",
       "      <td>0</td>\n",
       "      <td>6</td>\n",
       "      <td>2462400</td>\n",
       "      <td>6.30</td>\n",
       "      <td>1</td>\n",
       "      <td>3200</td>\n",
       "      <td>3.0</td>\n",
       "      <td>32.0</td>\n",
       "      <td>NaN</td>\n",
       "    </tr>\n",
       "    <tr>\n",
       "      <th>1171</th>\n",
       "      <td>ZTE</td>\n",
       "      <td>Blade V10 Vita</td>\n",
       "      <td>0</td>\n",
       "      <td>6</td>\n",
       "      <td>1094400</td>\n",
       "      <td>6.26</td>\n",
       "      <td>1</td>\n",
       "      <td>3200</td>\n",
       "      <td>2.0</td>\n",
       "      <td>32.0</td>\n",
       "      <td>NaN</td>\n",
       "    </tr>\n",
       "    <tr>\n",
       "      <th>1172</th>\n",
       "      <td>ZTE</td>\n",
       "      <td>Blade A7</td>\n",
       "      <td>0</td>\n",
       "      <td>6</td>\n",
       "      <td>1123200</td>\n",
       "      <td>6.09</td>\n",
       "      <td>1</td>\n",
       "      <td>3200</td>\n",
       "      <td>2.0</td>\n",
       "      <td>32.0</td>\n",
       "      <td>82.4</td>\n",
       "    </tr>\n",
       "  </tbody>\n",
       "</table>\n",
       "<p>1173 rows × 11 columns</p>\n",
       "</div>"
      ]
     },
     "execution_count": 13,
     "metadata": {},
     "output_type": "execute_result"
    }
   ],
   "execution_count": 13
  },
  {
   "cell_type": "code",
   "execution_count": null,
   "outputs": [],
   "source": [],
   "metadata": {
    "collapsed": false
   }
  }
 ],
 "metadata": {
  "kernelspec": {
   "display_name": "Python 3",
   "language": "python",
   "name": "python3"
  },
  "language_info": {
   "codemirror_mode": {
    "name": "ipython",
    "version": 2
   },
   "file_extension": ".py",
   "mimetype": "text/x-python",
   "name": "python",
   "nbconvert_exporter": "python",
   "pygments_lexer": "ipython2",
   "version": "2.7.6"
  }
 },
 "nbformat": 4,
 "nbformat_minor": 0
}
