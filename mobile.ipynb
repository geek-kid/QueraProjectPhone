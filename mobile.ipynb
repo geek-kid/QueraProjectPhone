{
 "cells": [
  {
   "metadata": {
    "ExecuteTime": {
     "end_time": "2025-01-19T20:18:05.870086Z",
     "start_time": "2025-01-19T20:18:05.866459Z"
    }
   },
   "cell_type": "code",
   "source": [
    "from sklearn.cluster import KMeans\n",
    "import os\n",
    "import matplotlib.pyplot as plt\n",
    "import json\n",
    "import data_cleaner\n",
    "import pandas as pd\n",
    "from sklearn.model_selection import train_test_split\n",
    "from sklearn.preprocessing import StandardScaler, LabelEncoder\n",
    "from sklearn.svm import SVR\n",
    "from sklearn.metrics import mean_absolute_error, mean_squared_error"
   ],
   "outputs": [],
   "execution_count": 12
  },
  {
   "metadata": {
    "ExecuteTime": {
     "end_time": "2025-01-19T20:14:00.462795Z",
     "start_time": "2025-01-19T20:14:00.455878Z"
    }
   },
   "cell_type": "code",
   "source": [
    "# Specify the directory path\n",
    "directory_path = 'data/'\n",
    "\n",
    "# Get a list of files in the directory\n",
    "file_names = [f for f in os.listdir(directory_path) if os.path.isfile(os.path.join(directory_path, f))]\n",
    "file_names"
   ],
   "outputs": [
    {
     "data": {
      "text/plain": [
       "['Alcatel_data.json',\n",
       " 'Apple_data.json',\n",
       " 'Asus_data.json',\n",
       " 'Blu_data.json',\n",
       " 'HTC_data.json',\n",
       " 'Huawei_data.json',\n",
       " 'Infinix_data.json',\n",
       " 'Lenovo_data.json',\n",
       " 'LG_data.json',\n",
       " 'Nokia_data.json',\n",
       " 'Samsung_data.json',\n",
       " 'Sony_data.json',\n",
       " 'Xiaomi_data.json',\n",
       " 'ZTE_data.json']"
      ]
     },
     "execution_count": 2,
     "metadata": {},
     "output_type": "execute_result"
    }
   ],
   "execution_count": 2
  },
  {
   "metadata": {
    "ExecuteTime": {
     "end_time": "2025-01-19T20:14:02.429405Z",
     "start_time": "2025-01-19T20:14:02.131377Z"
    }
   },
   "cell_type": "code",
   "source": [
    "dataframes = []\n",
    "for f in file_names:\n",
    "    file_path = directory_path + f\n",
    "    with open(file_path, 'r') as file:\n",
    "        data = json.load(file)\n",
    "    parsed_data = []\n",
    "    for brand, products in data.items():\n",
    "        for product_name, spec in products.items():\n",
    "            if \"watch\" in product_name.lower():\n",
    "                continue\n",
    "            lunch_data = data_cleaner.parse_date(spec.get('Launch', list(dict())))\n",
    "            if not lunch_data[1] or lunch_data[0] > 6:\n",
    "                continue\n",
    "            if lunch_data[1] == 2:\n",
    "                continue\n",
    "            os = data_cleaner.os_parser(spec.get(\"Platform\", list(dict())))\n",
    "            if os not in [1, 2]:\n",
    "                continue\n",
    "            display_information = data_cleaner.parse_display_information(spec.get(\"Display\", list(dict())))\n",
    "            memory_data = data_cleaner.parse_memory_data(spec.get(\"Memory\", list(dict())))\n",
    "            if 0 in memory_data:\n",
    "                continue\n",
    "            price = data_cleaner.parse_price(spec.get(\"Misc\", list(dict())))\n",
    "            if not price:\n",
    "                continue\n",
    "            product_features = {\n",
    "                \"brand\": \"\".join(char for char in brand if not char.isdigit()),\n",
    "                \"product_name\": product_name,\n",
    "                \"5g\": data_cleaner.parse_5g(spec.get(\"Network\", list(dict()))),\n",
    "                \"years_since_release\": lunch_data[0],\n",
    "                \"resolution\": display_information[0],\n",
    "                \"size\": display_information[1],\n",
    "                \"os\": data_cleaner.os_parser(spec.get(\"Platform\", list(dict()))),\n",
    "                \"battery\": data_cleaner.get_battery(spec.get(\"Battery\", list(dict()))),\n",
    "                \"ram\": memory_data[0],\n",
    "                \"storage\": memory_data[1],\n",
    "                \"price\": price\n",
    "            }\n",
    "            parsed_data.append(product_features)\n",
    "    df = pd.DataFrame(parsed_data)\n",
    "    dataframes.append(df)"
   ],
   "outputs": [],
   "execution_count": 3
  },
  {
   "metadata": {
    "ExecuteTime": {
     "end_time": "2025-01-19T20:14:04.360184Z",
     "start_time": "2025-01-19T20:14:04.350083Z"
    }
   },
   "cell_type": "code",
   "source": [
    "detailed_df = pd.concat(dataframes,ignore_index=True)\n",
    "detailed_df.info()\n"
   ],
   "outputs": [
    {
     "name": "stdout",
     "output_type": "stream",
     "text": [
      "<class 'pandas.core.frame.DataFrame'>\n",
      "RangeIndex: 1025 entries, 0 to 1024\n",
      "Data columns (total 11 columns):\n",
      " #   Column               Non-Null Count  Dtype  \n",
      "---  ------               --------------  -----  \n",
      " 0   brand                1025 non-null   object \n",
      " 1   product_name         1025 non-null   object \n",
      " 2   5g                   1025 non-null   int64  \n",
      " 3   years_since_release  1025 non-null   int64  \n",
      " 4   resolution           1025 non-null   int64  \n",
      " 5   size                 1025 non-null   float64\n",
      " 6   os                   1025 non-null   int64  \n",
      " 7   battery              1025 non-null   int64  \n",
      " 8   ram                  1025 non-null   float64\n",
      " 9   storage              1025 non-null   float64\n",
      " 10  price                1025 non-null   float64\n",
      "dtypes: float64(4), int64(5), object(2)\n",
      "memory usage: 88.2+ KB\n"
     ]
    }
   ],
   "execution_count": 4
  },
  {
   "metadata": {
    "ExecuteTime": {
     "end_time": "2025-01-19T20:14:05.698208Z",
     "start_time": "2025-01-19T20:14:05.689449Z"
    }
   },
   "cell_type": "code",
   "source": "detailed_df.info()",
   "outputs": [
    {
     "name": "stdout",
     "output_type": "stream",
     "text": [
      "<class 'pandas.core.frame.DataFrame'>\n",
      "RangeIndex: 1025 entries, 0 to 1024\n",
      "Data columns (total 11 columns):\n",
      " #   Column               Non-Null Count  Dtype  \n",
      "---  ------               --------------  -----  \n",
      " 0   brand                1025 non-null   object \n",
      " 1   product_name         1025 non-null   object \n",
      " 2   5g                   1025 non-null   int64  \n",
      " 3   years_since_release  1025 non-null   int64  \n",
      " 4   resolution           1025 non-null   int64  \n",
      " 5   size                 1025 non-null   float64\n",
      " 6   os                   1025 non-null   int64  \n",
      " 7   battery              1025 non-null   int64  \n",
      " 8   ram                  1025 non-null   float64\n",
      " 9   storage              1025 non-null   float64\n",
      " 10  price                1025 non-null   float64\n",
      "dtypes: float64(4), int64(5), object(2)\n",
      "memory usage: 88.2+ KB\n"
     ]
    }
   ],
   "execution_count": 5
  },
  {
   "metadata": {
    "ExecuteTime": {
     "end_time": "2025-01-19T20:14:07.389052Z",
     "start_time": "2025-01-19T20:14:07.383500Z"
    }
   },
   "cell_type": "code",
   "source": "detailed_df.isnull().sum()",
   "outputs": [
    {
     "data": {
      "text/plain": [
       "brand                  0\n",
       "product_name           0\n",
       "5g                     0\n",
       "years_since_release    0\n",
       "resolution             0\n",
       "size                   0\n",
       "os                     0\n",
       "battery                0\n",
       "ram                    0\n",
       "storage                0\n",
       "price                  0\n",
       "dtype: int64"
      ]
     },
     "execution_count": 6,
     "metadata": {},
     "output_type": "execute_result"
    }
   ],
   "execution_count": 6
  },
  {
   "metadata": {
    "ExecuteTime": {
     "end_time": "2025-01-19T20:14:09.088990Z",
     "start_time": "2025-01-19T20:14:09.084479Z"
    }
   },
   "cell_type": "code",
   "source": "data = detailed_df[[\"battery\", \"price\"]]",
   "outputs": [],
   "execution_count": 7
  },
  {
   "metadata": {
    "ExecuteTime": {
     "end_time": "2025-01-19T20:14:10.787960Z",
     "start_time": "2025-01-19T20:14:10.782841Z"
    }
   },
   "cell_type": "code",
   "source": [
    "scaler = StandardScaler()\n",
    "scaled_data = scaler.fit_transform(data)"
   ],
   "outputs": [],
   "execution_count": 8
  },
  {
   "metadata": {
    "ExecuteTime": {
     "end_time": "2025-01-19T20:18:52.975692Z",
     "start_time": "2025-01-19T20:18:52.866116Z"
    }
   },
   "cell_type": "code",
   "outputs": [
    {
     "name": "stderr",
     "output_type": "stream",
     "text": [
      "C:\\Users\\aryat\\AppData\\Local\\Temp\\ipykernel_27948\\2055979585.py:3: SettingWithCopyWarning: \n",
      "A value is trying to be set on a copy of a slice from a DataFrame.\n",
      "Try using .loc[row_indexer,col_indexer] = value instead\n",
      "\n",
      "See the caveats in the documentation: https://pandas.pydata.org/pandas-docs/stable/user_guide/indexing.html#returning-a-view-versus-a-copy\n",
      "  data[\"Cluster\"] = kmeans.labels_\n",
      "C:\\Users\\aryat\\AppData\\Local\\Temp\\ipykernel_27948\\2055979585.py:10: UserWarning: No artists with labels found to put in legend.  Note that artists whose label start with an underscore are ignored when legend() is called with no argument.\n",
      "  plt.legend()\n"
     ]
    },
    {
     "data": {
      "text/plain": [
       "<Figure size 640x480 with 1 Axes>"
      ],
      "image/png": "[encoded data removed]"
     },
     "metadata": {},
     "output_type": "display_data"
    }
   ],
   "execution_count": 13,
   "source": [
    "kmeans = KMeans(n_clusters=5, random_state=0)\n",
    "kmeans.fit(scaled_data)\n",
    "data[\"Cluster\"] = kmeans.labels_\n",
    "# Visualize the clusters (if applicable)\n",
    "plt.scatter(data['battery'], data['price'], c=data['Cluster'], cmap='viridis')\n",
    "# plt.scatter(kmeans.cluster_centers_[:, 0], kmeans.cluster_centers_[:, 1], s=300, c='red', label='Centroids')\n",
    "plt.title('K-means Clustering')\n",
    "plt.xlabel('battery')\n",
    "plt.ylabel('price')\n",
    "plt.legend()\n",
    "plt.show()"
   ]
  },
  {
   "metadata": {
    "ExecuteTime": {
     "end_time": "2025-01-19T19:49:48.309802Z",
     "start_time": "2025-01-19T19:49:48.267490Z"
    }
   },
   "cell_type": "code",
   "source": [
    "label_encoder_brand = LabelEncoder()\n",
    "label_encoder_product = LabelEncoder()\n",
    "\n",
    "detailed_df['brand_encoded'] = label_encoder_brand.fit_transform(detailed_df['brand'])\n",
    "detailed_df['product_name_encoded'] = label_encoder_product.fit_transform(detailed_df['product_name'])\n",
    "\n",
    "detailed_df = detailed_df.drop(columns=['brand', 'product_name'])\n",
    "\n",
    "X = detailed_df.drop(columns=['price'])\n",
    "y = detailed_df['price']\n",
    "\n",
    "scaler = StandardScaler()\n",
    "X_scaled = scaler.fit_transform(X)\n",
    "\n",
    "X_train, X_test, y_train, y_test = train_test_split(X_scaled, y, test_size=0.2, random_state=42)\n",
    "\n",
    "svr_model = SVR(kernel='rbf', C=100, epsilon=0.1)\n",
    "svr_model.fit(X_train, y_train)\n",
    "\n",
    "y_pred = svr_model.predict(X_test)\n",
    "mae = mean_absolute_error(y_test, y_pred)\n",
    "mse = mean_squared_error(y_test, y_pred)\n",
    "\n",
    "print(f\"Mean Absolute Error: {mae}\")\n",
    "print(f\"Mean Squared Error: {mse}\")"
   ],
   "outputs": [
    {
     "name": "stdout",
     "output_type": "stream",
     "text": [
      "Mean Absolute Error: 113.926786864632\n",
      "Mean Squared Error: 38848.628725129514\n"
     ]
    }
   ],
   "execution_count": 20
  }
 ],
 "metadata": {
  "kernelspec": {
   "display_name": "Python 3",
   "language": "python",
   "name": "python3"
  },
  "language_info": {
   "codemirror_mode": {
    "name": "ipython",
    "version": 2
   },
   "file_extension": ".py",
   "mimetype": "text/x-python",
   "name": "python",
   "nbconvert_exporter": "python",
   "pygments_lexer": "ipython2",
   "version": "2.7.6"
  }
 },
 "nbformat": 4,
 "nbformat_minor": 0
}
