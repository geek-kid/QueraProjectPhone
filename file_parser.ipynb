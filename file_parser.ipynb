{
 "cells": [
  {
   "metadata": {
    "ExecuteTime": {
     "end_time": "2025-01-14T14:56:43.054999Z",
     "start_time": "2025-01-14T14:56:40.301132Z"
    }
   },
   "cell_type": "code",
   "source": [
    "import csv\n",
    "import json\n",
    "import os\n",
    "import pandas as pd"
   ],
   "id": "8b818231500ebc6f",
   "outputs": [],
   "execution_count": 2
  },
  {
   "metadata": {},
   "cell_type": "code",
   "outputs": [],
   "execution_count": null,
   "source": [
    "# Create CSV file\n",
    "def write_csv():\n",
    "    needed_features = ['OS',\n",
    "                       'Battery_capacity',\n",
    "                       'Price',\n",
    "                       'CPU',\n",
    "                       'Ratio',\n",
    "                       'Pixel',\n",
    "                       'WLAN',\n",
    "                       'Colors',\n",
    "                       'Sensors',\n",
    "                       'Bluetooth',\n",
    "                       'GPU',\n",
    "                       'LoudSpeaker',\n",
    "                       '3.5mm jack',\n",
    "                       'Chipset',\n",
    "                       'Network',\n",
    "                       'Internal',\n",
    "                       'Card slot',\n",
    "                       'RAM',\n",
    "                       'Storage']\n",
    "    if not os.path.exists('data/cleaned_csv.csv'):\n",
    "        with open('data/cleaned_csv.csv', 'w', newline='') as csvfile:\n",
    "            csv_writer = csv.writer(csvfile)\n",
    "            filewriter = csv.writer(','.join(needed_features))"
   ],
   "id": "4d887edac6bf83f"
  },
  {
   "metadata": {
    "ExecuteTime": {
     "end_time": "2025-01-14T14:56:55.007106Z",
     "start_time": "2025-01-14T14:56:54.967397Z"
    }
   },
   "cell_type": "code",
   "source": [
    "data_files = os.listdir('data')\n",
    "for data_file in data_files:\n"
   ],
   "id": "5291aa40e9a8b931",
   "outputs": [
    {
     "name": "stdout",
     "output_type": "stream",
     "text": [
      "['Alcatel_data.json', 'Apple_data.json', 'Asus_data.json', 'Blu_data.json', 'HTC_data.json', 'Huawei_data.json', 'Infinix_data.json', 'Lenovo_data.json', 'LG_data.json', 'Nokia_data.json', 'Samsung_data.json', 'Sony_data.json', 'Xiaomi_data.json', 'ZTE_data.json']\n"
     ]
    }
   ],
   "execution_count": 4
  }
 ],
 "metadata": {
  "kernelspec": {
   "display_name": "Python 3",
   "language": "python",
   "name": "python3"
  },
  "language_info": {
   "codemirror_mode": {
    "name": "ipython",
    "version": 2
   },
   "file_extension": ".py",
   "mimetype": "text/x-python",
   "name": "python",
   "nbconvert_exporter": "python",
   "pygments_lexer": "ipython2",
   "version": "2.7.6"
  }
 },
 "nbformat": 4,
 "nbformat_minor": 5
}
